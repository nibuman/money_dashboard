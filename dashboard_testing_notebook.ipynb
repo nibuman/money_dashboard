{
 "cells": [
  {
   "cell_type": "code",
   "execution_count": 2,
   "metadata": {},
   "outputs": [],
   "source": [
    "import pandas as pd\n",
    "from utils import DATA_PATH\n",
    "df_assets_time_series = pd.read_csv(DATA_PATH / \"assets_time_series.csv\")\n",
    "df_latest_values = pd.read_csv(DATA_PATH / \"assets_latest_summary.csv\").iloc[:, 1:]\n",
    "df_summary = pd.read_csv(DATA_PATH / \"investments_summary.csv\")"
   ]
  },
  {
   "cell_type": "code",
   "execution_count": 19,
   "metadata": {},
   "outputs": [
    {
     "data": {
      "text/plain": [
       "[{'Current Assets': 41339.53,\n",
       "  '3 Thorold Grove': 250000,\n",
       "  'Share Schemes': 26984.676079,\n",
       "  'Retirement': 479313.15814378,\n",
       "  'available_total': 105182.0325454849,\n",
       "  'total': 861479.8667682649}]"
      ]
     },
     "execution_count": 19,
     "metadata": {},
     "output_type": "execute_result"
    }
   ],
   "source": [
    "df_latest_values.iloc[:,1:].to_dict(\"records\")"
   ]
  },
  {
   "cell_type": "code",
   "execution_count": 21,
   "metadata": {},
   "outputs": [
    {
     "data": {
      "text/html": [
       "<div>\n",
       "<style scoped>\n",
       "    .dataframe tbody tr th:only-of-type {\n",
       "        vertical-align: middle;\n",
       "    }\n",
       "\n",
       "    .dataframe tbody tr th {\n",
       "        vertical-align: top;\n",
       "    }\n",
       "\n",
       "    .dataframe thead th {\n",
       "        text-align: right;\n",
       "    }\n",
       "</style>\n",
       "<table border=\"1\" class=\"dataframe\">\n",
       "  <thead>\n",
       "    <tr style=\"text-align: right;\">\n",
       "      <th></th>\n",
       "      <th>Unnamed: 0</th>\n",
       "      <th>commodity</th>\n",
       "      <th>latest_price</th>\n",
       "      <th>quantity</th>\n",
       "      <th>value</th>\n",
       "      <th>price_year1</th>\n",
       "      <th>year1</th>\n",
       "      <th>year1_percent</th>\n",
       "      <th>annualised1_percent</th>\n",
       "      <th>year1_percent_value</th>\n",
       "      <th>...</th>\n",
       "      <th>year5</th>\n",
       "      <th>year5_percent</th>\n",
       "      <th>annualised5_percent</th>\n",
       "      <th>year5_percent_value</th>\n",
       "      <th>percent_value</th>\n",
       "      <th>commodity_name</th>\n",
       "      <th>commodity_type</th>\n",
       "      <th>commodity_sector</th>\n",
       "      <th>commodity_id</th>\n",
       "      <th>commodity_ocf</th>\n",
       "    </tr>\n",
       "  </thead>\n",
       "  <tbody>\n",
       "    <tr>\n",
       "      <th>0</th>\n",
       "      <td>0</td>\n",
       "      <td>AZN</td>\n",
       "      <td>101.8097</td>\n",
       "      <td>301.000</td>\n",
       "      <td>30644.719700</td>\n",
       "      <td>108.8000</td>\n",
       "      <td>0.935751</td>\n",
       "      <td>-0.064249</td>\n",
       "      <td>-0.064249</td>\n",
       "      <td>-1968.895075</td>\n",
       "      <td>...</td>\n",
       "      <td>1.658409</td>\n",
       "      <td>0.658409</td>\n",
       "      <td>0.106467</td>\n",
       "      <td>3262.638810</td>\n",
       "      <td>0.480016</td>\n",
       "      <td>AstraZeneca PLC</td>\n",
       "      <td>shares</td>\n",
       "      <td>NaN</td>\n",
       "      <td>AZN.L</td>\n",
       "      <td>NaN</td>\n",
       "    </tr>\n",
       "    <tr>\n",
       "      <th>1</th>\n",
       "      <td>1</td>\n",
       "      <td>BARC</td>\n",
       "      <td>1.4554</td>\n",
       "      <td>303.000</td>\n",
       "      <td>440.986200</td>\n",
       "      <td>1.7464</td>\n",
       "      <td>0.833372</td>\n",
       "      <td>-0.166628</td>\n",
       "      <td>-0.166628</td>\n",
       "      <td>-73.480866</td>\n",
       "      <td>...</td>\n",
       "      <td>0.886574</td>\n",
       "      <td>-0.113426</td>\n",
       "      <td>-0.023791</td>\n",
       "      <td>-10.491306</td>\n",
       "      <td>0.006908</td>\n",
       "      <td>Barclays PLC</td>\n",
       "      <td>shares</td>\n",
       "      <td>NaN</td>\n",
       "      <td>BARC.L</td>\n",
       "      <td>NaN</td>\n",
       "    </tr>\n",
       "    <tr>\n",
       "      <th>2</th>\n",
       "      <td>4</td>\n",
       "      <td>LGAAIJ</td>\n",
       "      <td>0.9417</td>\n",
       "      <td>1271.260</td>\n",
       "      <td>1197.145542</td>\n",
       "      <td>NaN</td>\n",
       "      <td>NaN</td>\n",
       "      <td>NaN</td>\n",
       "      <td>NaN</td>\n",
       "      <td>NaN</td>\n",
       "      <td>...</td>\n",
       "      <td>NaN</td>\n",
       "      <td>NaN</td>\n",
       "      <td>NaN</td>\n",
       "      <td>NaN</td>\n",
       "      <td>0.018752</td>\n",
       "      <td>Legal &amp; General UK Property Fund C Class Accum...</td>\n",
       "      <td>UK property</td>\n",
       "      <td>NaN</td>\n",
       "      <td>GB00BLM78D49</td>\n",
       "      <td>0.63</td>\n",
       "    </tr>\n",
       "    <tr>\n",
       "      <th>3</th>\n",
       "      <td>5</td>\n",
       "      <td>LGITI</td>\n",
       "      <td>2.3700</td>\n",
       "      <td>2154.179</td>\n",
       "      <td>5105.404230</td>\n",
       "      <td>2.1000</td>\n",
       "      <td>1.128571</td>\n",
       "      <td>0.128571</td>\n",
       "      <td>0.128571</td>\n",
       "      <td>656.409115</td>\n",
       "      <td>...</td>\n",
       "      <td>1.716148</td>\n",
       "      <td>0.716148</td>\n",
       "      <td>0.114066</td>\n",
       "      <td>582.353212</td>\n",
       "      <td>0.079971</td>\n",
       "      <td>L&amp;G International Index Trust I Acc</td>\n",
       "      <td>global equity</td>\n",
       "      <td>NaN</td>\n",
       "      <td>GB00B2Q6HW61</td>\n",
       "      <td>0.13</td>\n",
       "    </tr>\n",
       "    <tr>\n",
       "      <th>4</th>\n",
       "      <td>6</td>\n",
       "      <td>LGXITA</td>\n",
       "      <td>1.5030</td>\n",
       "      <td>3500.360</td>\n",
       "      <td>5261.041080</td>\n",
       "      <td>1.4110</td>\n",
       "      <td>1.065202</td>\n",
       "      <td>0.065202</td>\n",
       "      <td>0.065202</td>\n",
       "      <td>343.030318</td>\n",
       "      <td>...</td>\n",
       "      <td>1.012121</td>\n",
       "      <td>0.012121</td>\n",
       "      <td>0.002413</td>\n",
       "      <td>12.692647</td>\n",
       "      <td>0.082408</td>\n",
       "      <td>L&amp;G Active Sterling Corporate Bond I Acc</td>\n",
       "      <td>global bonds</td>\n",
       "      <td>NaN</td>\n",
       "      <td>GB00B0CNHD88</td>\n",
       "      <td>0.33</td>\n",
       "    </tr>\n",
       "  </tbody>\n",
       "</table>\n",
       "<p>5 rows × 26 columns</p>\n",
       "</div>"
      ],
      "text/plain": [
       "   Unnamed: 0 commodity  latest_price  quantity         value  price_year1  \\\n",
       "0           0       AZN      101.8097   301.000  30644.719700     108.8000   \n",
       "1           1      BARC        1.4554   303.000    440.986200       1.7464   \n",
       "2           4    LGAAIJ        0.9417  1271.260   1197.145542          NaN   \n",
       "3           5     LGITI        2.3700  2154.179   5105.404230       2.1000   \n",
       "4           6    LGXITA        1.5030  3500.360   5261.041080       1.4110   \n",
       "\n",
       "      year1  year1_percent  annualised1_percent  year1_percent_value  ...  \\\n",
       "0  0.935751      -0.064249            -0.064249         -1968.895075  ...   \n",
       "1  0.833372      -0.166628            -0.166628           -73.480866  ...   \n",
       "2       NaN            NaN                  NaN                  NaN  ...   \n",
       "3  1.128571       0.128571             0.128571           656.409115  ...   \n",
       "4  1.065202       0.065202             0.065202           343.030318  ...   \n",
       "\n",
       "      year5  year5_percent  annualised5_percent  year5_percent_value  \\\n",
       "0  1.658409       0.658409             0.106467          3262.638810   \n",
       "1  0.886574      -0.113426            -0.023791           -10.491306   \n",
       "2       NaN            NaN                  NaN                  NaN   \n",
       "3  1.716148       0.716148             0.114066           582.353212   \n",
       "4  1.012121       0.012121             0.002413            12.692647   \n",
       "\n",
       "   percent_value                                     commodity_name  \\\n",
       "0       0.480016                                    AstraZeneca PLC   \n",
       "1       0.006908                                       Barclays PLC   \n",
       "2       0.018752  Legal & General UK Property Fund C Class Accum...   \n",
       "3       0.079971                L&G International Index Trust I Acc   \n",
       "4       0.082408           L&G Active Sterling Corporate Bond I Acc   \n",
       "\n",
       "   commodity_type  commodity_sector  commodity_id  commodity_ocf  \n",
       "0          shares               NaN         AZN.L            NaN  \n",
       "1          shares               NaN        BARC.L            NaN  \n",
       "2     UK property               NaN  GB00BLM78D49           0.63  \n",
       "3   global equity               NaN  GB00B2Q6HW61           0.13  \n",
       "4    global bonds               NaN  GB00B0CNHD88           0.33  \n",
       "\n",
       "[5 rows x 26 columns]"
      ]
     },
     "execution_count": 21,
     "metadata": {},
     "output_type": "execute_result"
    }
   ],
   "source": [
    "df_summary.head()"
   ]
  },
  {
   "cell_type": "code",
   "execution_count": 22,
   "metadata": {},
   "outputs": [
    {
     "data": {
      "text/plain": [
       "63841.012545484904"
      ]
     },
     "execution_count": 22,
     "metadata": {},
     "output_type": "execute_result"
    }
   ],
   "source": [
    "df_summary.value.sum(axis=0)"
   ]
  },
  {
   "cell_type": "code",
   "execution_count": 26,
   "metadata": {},
   "outputs": [
    {
     "name": "stdout",
     "output_type": "stream",
     "text": [
      "[{'': 0.0, 'commodity': 'AZN', 'latest_price': 101.8097, 'quantity': 301.0, 'value': 30644.7197, 'price_year1': 108.8, 'year1': 0.9357509191176472, 'year1_percent': -0.06424908088235282, 'annualised1_percent': -0.06424908088235282, 'year1_percent_value': -1968.8950746223309, 'price_year3': 69.45, 'year3': 1.4659424046076315, 'year3_percent': 0.4659424046076315, 'annualised3_percent': 0.13598423029081363, 'year3_percent_value': 4167.198620882234, 'price_year5': 61.39, 'year5': 1.658408535592116, 'year5_percent': 0.6584085355921161, 'annualised5_percent': 0.106466590061145, 'year5_percent_value': 3262.6388098385946, 'percent_value': 0.4800161914438075, 'commodity_name': 'AstraZeneca PLC', 'commodity_type': 'shares', 'commodity_sector': '', 'commodity_id': 'AZN.L', 'commodity_ocf': ''}, {'': 1.0, 'commodity': 'BARC', 'latest_price': 1.4554, 'quantity': 303.0, 'value': 440.9862, 'price_year1': 1.7464, 'year1': 0.8333715071003207, 'year1_percent': -0.1666284928996793, 'annualised1_percent': -0.1666284928996793, 'year1_percent_value': -73.48086589555655, 'price_year3': 1.596, 'year3': 0.9119047619047619, 'year3_percent': -0.08809523809523812, 'annualised3_percent': -0.030272240673704487, 'year3_percent_value': -13.34964038018238, 'price_year5': 1.6416, 'year5': 0.8865740740740741, 'year5_percent': -0.11342592592592593, 'annualised5_percent': -0.023790554519957374, 'year5_percent_value': -10.491306233648826, 'percent_value': 0.0069075690127221884, 'commodity_name': 'Barclays PLC', 'commodity_type': 'shares', 'commodity_sector': '', 'commodity_id': 'BARC.L', 'commodity_ocf': ''}, {'': 4.0, 'commodity': 'LGAAIJ', 'latest_price': 0.9417, 'quantity': 1271.26, 'value': 1197.145542, 'price_year1': '', 'year1': '', 'year1_percent': '', 'annualised1_percent': '', 'year1_percent_value': '', 'price_year3': '', 'year3': '', 'year3_percent': '', 'annualised3_percent': '', 'year3_percent_value': '', 'price_year5': '', 'year5': '', 'year5_percent': '', 'annualised5_percent': '', 'year5_percent_value': '', 'percent_value': 0.018751982374137124, 'commodity_name': 'Legal & General UK Property Fund C Class Accumulation', 'commodity_type': 'UK property', 'commodity_sector': '', 'commodity_id': 'GB00BLM78D49', 'commodity_ocf': 0.63}, {'': 5.0, 'commodity': 'LGITI', 'latest_price': 2.37, 'quantity': 2154.179, 'value': 5105.40423, 'price_year1': 2.1, 'year1': 1.1285714285714286, 'year1_percent': 0.12857142857142856, 'annualised1_percent': 0.12857142857142856, 'year1_percent_value': 656.4091152857143, 'price_year3': 1.805, 'year3': 1.3130193905817176, 'year3_percent': 0.31301939058171757, 'annualised3_percent': 0.09502419011542629, 'year3_percent_value': 485.13690216762154, 'price_year5': 1.381, 'year5': 1.716147719044171, 'year5_percent': 0.716147719044171, 'annualised5_percent': 0.1140660339047661, 'year5_percent_value': 582.3532119967163, 'percent_value': 0.07997060238295163, 'commodity_name': 'L&G International Index Trust I Acc', 'commodity_type': 'global equity', 'commodity_sector': '', 'commodity_id': 'GB00B2Q6HW61', 'commodity_ocf': 0.13}, {'': 6.0, 'commodity': 'LGXITA', 'latest_price': 1.503, 'quantity': 3500.36, 'value': 5261.04108, 'price_year1': 1.411, 'year1': 1.065201984408221, 'year1_percent': 0.065201984408221, 'annualised1_percent': 0.065201984408221, 'year1_percent_value': 343.0303184691702, 'price_year3': 1.693, 'year3': 0.8877731836975782, 'year3_percent': -0.11222681630242182, 'annualised3_percent': -0.038902736222645284, 'year3_percent_value': -204.66889339174088, 'price_year5': 1.485, 'year5': 1.012121212121212, 'year5_percent': 0.012121212121211977, 'annualised5_percent': 0.002412573285815567, 'year5_percent_value': 12.692647165186278, 'percent_value': 0.0824084842992059, 'commodity_name': 'L&G Active Sterling Corporate Bond I Acc', 'commodity_type': 'global bonds', 'commodity_sector': '', 'commodity_id': 'GB00B0CNHD88', 'commodity_ocf': 0.33}, {'': 7.0, 'commodity': 'MDHAAJ', 'latest_price': 9.916292364230298, 'quantity': 357.47, 'value': 3544.7770314414047, 'price_year1': 9.1859, 'year1': 1.0795123356699177, 'year1_percent': 0.07951233566991767, 'annualised1_percent': 0.07951233566991767, 'year1_percent_value': 281.8535011989833, 'price_year3': 7.4875, 'year3': 1.3243796145883537, 'year3_percent': 0.32437961458835374, 'annualised3_percent': 0.09817317012967175, 'year3_percent_value': 348.00199857944983, 'price_year5': 5.53907, 'year5': 1.790244998570211, 'year5_percent': 0.7902449985702109, 'annualised5_percent': 0.12352436178425386, 'year5_percent_value': 437.8663204762815, 'percent_value': 0.0555250753411195, 'commodity_name': 'HSBC American Index C Acc', 'commodity_type': 'US equity', 'commodity_sector': '', 'commodity_id': 'GB00B80QG615', 'commodity_ocf': 0.06}, {'': 8.0, 'commodity': 'RLAAKA', 'latest_price': 1.06, 'quantity': 1526.5991, 'value': 1618.195046, 'price_year1': 1.08, 'year1': 0.9814814814814815, 'year1_percent': -0.01851851851851849, 'annualised1_percent': -0.01851851851851849, 'year1_percent_value': -29.96657492592588, 'price_year3': '', 'year3': '', 'year3_percent': '', 'annualised3_percent': '', 'year3_percent_value': '', 'price_year5': '', 'year5': '', 'year5_percent': '', 'annualised5_percent': '', 'year5_percent_value': '', 'percent_value': 0.02534726473592633, 'commodity_name': 'Royal London UK Broad Equity Tilt Fund Class Z Accumulation', 'commodity_type': 'UK equity', 'commodity_sector': '', 'commodity_id': 'GB00BPBJRB09', 'commodity_ocf': 0.11}, {'': 9.0, 'commodity': 'RLFTT', 'latest_price': 2.1152210685972412, 'quantity': 803.6985, 'value': 1699.9999999999998, 'price_year1': '', 'year1': '', 'year1_percent': '', 'annualised1_percent': '', 'year1_percent_value': '', 'price_year3': '', 'year3': '', 'year3_percent': '', 'annualised3_percent': '', 'year3_percent_value': '', 'price_year5': '', 'year5': '', 'year5_percent': '', 'annualised5_percent': '', 'year5_percent_value': '', 'percent_value': 0.02662865033333859, 'commodity_name': 'Royal London UK Core Equity Tilt Fund Z Accumulation', 'commodity_type': 'UK equity', 'commodity_sector': '', 'commodity_id': 'GB00B523MH29', 'commodity_ocf': 0.15}, {'': 11.0, 'commodity': 'RWAABC', 'latest_price': 0.9727, 'quantity': 982.62, 'value': 955.794474, 'price_year1': 1.0244, 'year1': 0.9495314330339711, 'year1_percent': -0.05046856696602886, 'annualised1_percent': -0.05046856696602886, 'year1_percent_value': -48.23757741682933, 'price_year3': 1.142, 'year3': 0.8517513134851139, 'year3_percent': -0.1482486865148861, 'annualised3_percent': -0.05208163513518649, 'year3_percent_value': -49.77933905909549, 'price_year5': 1.0336, 'year5': 0.9410797213622291, 'year5_percent': -0.05892027863777094, 'annualised5_percent': -0.012072025930064179, 'year5_percent_value': -11.538375673940052, 'percent_value': 0.01497148049334311, 'commodity_name': 'Jupiter Strategic Bond I Acc', 'commodity_type': 'global bonds', 'commodity_sector': '', 'commodity_id': 'GB00B4T6SD53', 'commodity_ocf': 0.73}, {'': 12.0, 'commodity': 'SMT', 'latest_price': 7.77, 'quantity': 491.0, 'value': 3815.0699999999997, 'price_year1': 7.134, 'year1': 1.0891505466778804, 'year1_percent': 0.08915054667788036, 'annualised1_percent': 0.08915054667788036, 'year1_percent_value': 340.115576114381, 'price_year3': 12.2192, 'year3': 0.635884509624198, 'year3_percent': -0.36411549037580204, 'annualised3_percent': -0.1400772966424415, 'year3_percent_value': -534.4046921016793, 'price_year5': 4.938, 'year5': 1.5735115431348725, 'year5_percent': 0.5735115431348725, 'annualised5_percent': 0.09489881728316774, 'year5_percent_value': 362.0456308524947, 'percent_value': 0.05975892060424121, 'commodity_name': 'Scottish Mortgage Inv Trust', 'commodity_type': 'global equity', 'commodity_sector': '', 'commodity_id': 'GB00BLDYK618', 'commodity_ocf': 0.34}, {'': 15.0, 'commodity': 'VVDVWE', 'latest_price': 589.145195, 'quantity': 16.2233, 'value': 9557.879242043498, 'price_year1': 521.255117, 'year1': 1.1302434753844341, 'year1_percent': 0.13024347538443415, 'annualised1_percent': 0.13024347538443415, 'year1_percent_value': 1244.8514097884865, 'price_year3': 444.9075, 'year3': 1.3241970409579518, 'year3_percent': 0.32419704095795177, 'annualised3_percent': 0.0981227045697386, 'year3_percent_value': 937.8449611802712, 'price_year5': 339.446094, 'year5': 1.7356075247694556, 'year5_percent': 0.7356075247694556, 'annualised5_percent': 0.11658118343992552, 'year5_percent_value': 1114.2688732133292, 'percent_value': 0.14971377897920685, 'commodity_name': 'Vanguard FTSE Developed World ex-UK Equity Index Acc GBP', 'commodity_type': 'global equity', 'commodity_sector': '', 'commodity_id': 'GB00B59G4Q73', 'commodity_ocf': 0.14}]\n"
     ]
    }
   ],
   "source": [
    "import csv\n",
    "with open(DATA_PATH / \"investments_summary.csv\", 'r') as f:\n",
    "    summary_data = list(csv.DictReader(f))\n",
    "    for row in summary_data:\n",
    "        for col, value in row.items():\n",
    "            try:\n",
    "                row[col] = float(value)\n",
    "            except ValueError:\n",
    "                pass\n",
    "\n",
    "print(summary_data)"
   ]
  },
  {
   "cell_type": "code",
   "execution_count": 5,
   "metadata": {},
   "outputs": [
    {
     "data": {
      "text/plain": [
       "[-inf, -3, 0, 1, 22.3333, 32.2, 45, 9999, 3000000.0]"
      ]
     },
     "execution_count": 5,
     "metadata": {},
     "output_type": "execute_result"
    }
   ],
   "source": [
    "import math\n",
    "math.isnan(float('nan'))\n",
    "\n",
    "a = float('-inf')\n",
    "b=[32.2,1,0,-3,9999,a, 45,22.3333,3e6]\n",
    "sorted(b)\n"
   ]
  },
  {
   "cell_type": "code",
   "execution_count": 24,
   "metadata": {},
   "outputs": [
    {
     "data": {
      "text/plain": [
       "63841.012545484904"
      ]
     },
     "execution_count": 24,
     "metadata": {},
     "output_type": "execute_result"
    }
   ],
   "source": [
    "sum(float(row['value']) for row in summary_data)"
   ]
  },
  {
   "cell_type": "code",
   "execution_count": 18,
   "metadata": {},
   "outputs": [
    {
     "name": "stdout",
     "output_type": "stream",
     "text": [
      "{'commodity': 'AZN', 'latest_price': '101.8097', 'quantity': '301.0', 'value': '30644.7197', 'price_year1': '108.8', 'year1': '0.9357509191176472', 'year1_percent': '-0.06424908088235282', 'annualised1_percent': '-0.06424908088235282', 'year1_percent_value': '-1968.8950746223309', 'price_year3': '69.45', 'year3': '1.4659424046076315', 'year3_percent': '0.4659424046076315', 'annualised3_percent': '0.13598423029081363', 'year3_percent_value': '4167.198620882234', 'price_year5': '61.39', 'year5': '1.658408535592116', 'year5_percent': '0.6584085355921161', 'annualised5_percent': '0.106466590061145', 'year5_percent_value': '3262.6388098385946', 'percent_value': '0.4800161914438075', 'commodity_name': 'AstraZeneca PLC', 'commodity_type': 'shares', 'commodity_sector': '', 'commodity_id': 'AZN.L', 'commodity_ocf': ''} \n",
      " {'Unnamed: 0': 0, 'commodity': 'AZN', 'latest_price': 101.8097, 'quantity': 301.0, 'value': 30644.7197, 'price_year1': 108.8, 'year1': 0.9357509191176472, 'year1_percent': -0.0642490808823528, 'annualised1_percent': -0.0642490808823528, 'year1_percent_value': -1968.8950746223309, 'price_year3': 69.45, 'year3': 1.4659424046076317, 'year3_percent': 0.4659424046076315, 'annualised3_percent': 0.1359842302908136, 'year3_percent_value': 4167.198620882234, 'price_year5': 61.39, 'year5': 1.658408535592116, 'year5_percent': 0.6584085355921161, 'annualised5_percent': 0.106466590061145, 'year5_percent_value': 3262.6388098385946, 'percent_value': 0.4800161914438075, 'commodity_name': 'AstraZeneca PLC', 'commodity_type': 'shares', 'commodity_sector': nan, 'commodity_id': 'AZN.L', 'commodity_ocf': nan} \n",
      "****\n",
      "{'': '1', 'commodity': 'BARC', 'latest_price': '1.4554', 'quantity': '303.0', 'value': '440.9862', 'price_year1': '1.7464', 'year1': '0.8333715071003207', 'year1_percent': '-0.1666284928996793', 'annualised1_percent': '-0.1666284928996793', 'year1_percent_value': '-73.48086589555655', 'price_year3': '1.596', 'year3': '0.9119047619047619', 'year3_percent': '-0.08809523809523812', 'annualised3_percent': '-0.030272240673704487', 'year3_percent_value': '-13.34964038018238', 'price_year5': '1.6416', 'year5': '0.8865740740740741', 'year5_percent': '-0.11342592592592593', 'annualised5_percent': '-0.023790554519957374', 'year5_percent_value': '-10.491306233648826', 'percent_value': '0.0069075690127221884', 'commodity_name': 'Barclays PLC', 'commodity_type': 'shares', 'commodity_sector': '', 'commodity_id': 'BARC.L', 'commodity_ocf': ''} \n",
      " {'Unnamed: 0': 1, 'commodity': 'BARC', 'latest_price': 1.4554, 'quantity': 303.0, 'value': 440.9862, 'price_year1': 1.7464, 'year1': 0.8333715071003207, 'year1_percent': -0.1666284928996793, 'annualised1_percent': -0.1666284928996793, 'year1_percent_value': -73.48086589555655, 'price_year3': 1.596, 'year3': 0.911904761904762, 'year3_percent': -0.0880952380952381, 'annualised3_percent': -0.0302722406737044, 'year3_percent_value': -13.34964038018238, 'price_year5': 1.6416, 'year5': 0.8865740740740741, 'year5_percent': -0.1134259259259259, 'annualised5_percent': -0.0237905545199573, 'year5_percent_value': -10.491306233648826, 'percent_value': 0.0069075690127221, 'commodity_name': 'Barclays PLC', 'commodity_type': 'shares', 'commodity_sector': nan, 'commodity_id': 'BARC.L', 'commodity_ocf': nan} \n",
      "****\n",
      "{'': '4', 'commodity': 'LGAAIJ', 'latest_price': '0.9417', 'quantity': '1271.26', 'value': '1197.145542', 'price_year1': '', 'year1': '', 'year1_percent': '', 'annualised1_percent': '', 'year1_percent_value': '', 'price_year3': '', 'year3': '', 'year3_percent': '', 'annualised3_percent': '', 'year3_percent_value': '', 'price_year5': '', 'year5': '', 'year5_percent': '', 'annualised5_percent': '', 'year5_percent_value': '', 'percent_value': '0.018751982374137124', 'commodity_name': 'Legal & General UK Property Fund C Class Accumulation', 'commodity_type': 'UK property', 'commodity_sector': '', 'commodity_id': 'GB00BLM78D49', 'commodity_ocf': '0.63'} \n",
      " {'Unnamed: 0': 4, 'commodity': 'LGAAIJ', 'latest_price': 0.9417, 'quantity': 1271.26, 'value': 1197.145542, 'price_year1': nan, 'year1': nan, 'year1_percent': nan, 'annualised1_percent': nan, 'year1_percent_value': nan, 'price_year3': nan, 'year3': nan, 'year3_percent': nan, 'annualised3_percent': nan, 'year3_percent_value': nan, 'price_year5': nan, 'year5': nan, 'year5_percent': nan, 'annualised5_percent': nan, 'year5_percent_value': nan, 'percent_value': 0.0187519823741371, 'commodity_name': 'Legal & General UK Property Fund C Class Accumulation', 'commodity_type': 'UK property', 'commodity_sector': nan, 'commodity_id': 'GB00BLM78D49', 'commodity_ocf': 0.63} \n",
      "****\n",
      "{'': '5', 'commodity': 'LGITI', 'latest_price': '2.37', 'quantity': '2154.179', 'value': '5105.40423', 'price_year1': '2.1', 'year1': '1.1285714285714286', 'year1_percent': '0.12857142857142856', 'annualised1_percent': '0.12857142857142856', 'year1_percent_value': '656.4091152857143', 'price_year3': '1.805', 'year3': '1.3130193905817176', 'year3_percent': '0.31301939058171757', 'annualised3_percent': '0.09502419011542629', 'year3_percent_value': '485.13690216762154', 'price_year5': '1.381', 'year5': '1.716147719044171', 'year5_percent': '0.716147719044171', 'annualised5_percent': '0.1140660339047661', 'year5_percent_value': '582.3532119967163', 'percent_value': '0.07997060238295163', 'commodity_name': 'L&G International Index Trust I Acc', 'commodity_type': 'global equity', 'commodity_sector': '', 'commodity_id': 'GB00B2Q6HW61', 'commodity_ocf': '0.13'} \n",
      " {'Unnamed: 0': 5, 'commodity': 'LGITI', 'latest_price': 2.37, 'quantity': 2154.179, 'value': 5105.40423, 'price_year1': 2.1, 'year1': 1.1285714285714286, 'year1_percent': 0.1285714285714285, 'annualised1_percent': 0.1285714285714285, 'year1_percent_value': 656.4091152857143, 'price_year3': 1.805, 'year3': 1.3130193905817176, 'year3_percent': 0.3130193905817175, 'annualised3_percent': 0.0950241901154262, 'year3_percent_value': 485.1369021676216, 'price_year5': 1.381, 'year5': 1.716147719044171, 'year5_percent': 0.716147719044171, 'annualised5_percent': 0.1140660339047661, 'year5_percent_value': 582.3532119967163, 'percent_value': 0.0799706023829516, 'commodity_name': 'L&G International Index Trust I Acc', 'commodity_type': 'global equity', 'commodity_sector': nan, 'commodity_id': 'GB00B2Q6HW61', 'commodity_ocf': 0.13} \n",
      "****\n",
      "{'': '6', 'commodity': 'LGXITA', 'latest_price': '1.503', 'quantity': '3500.36', 'value': '5261.04108', 'price_year1': '1.411', 'year1': '1.065201984408221', 'year1_percent': '0.065201984408221', 'annualised1_percent': '0.065201984408221', 'year1_percent_value': '343.0303184691702', 'price_year3': '1.693', 'year3': '0.8877731836975782', 'year3_percent': '-0.11222681630242182', 'annualised3_percent': '-0.038902736222645284', 'year3_percent_value': '-204.66889339174088', 'price_year5': '1.485', 'year5': '1.012121212121212', 'year5_percent': '0.012121212121211977', 'annualised5_percent': '0.002412573285815567', 'year5_percent_value': '12.692647165186278', 'percent_value': '0.0824084842992059', 'commodity_name': 'L&G Active Sterling Corporate Bond I Acc', 'commodity_type': 'global bonds', 'commodity_sector': '', 'commodity_id': 'GB00B0CNHD88', 'commodity_ocf': '0.33'} \n",
      " {'Unnamed: 0': 6, 'commodity': 'LGXITA', 'latest_price': 1.503, 'quantity': 3500.36, 'value': 5261.04108, 'price_year1': 1.411, 'year1': 1.065201984408221, 'year1_percent': 0.065201984408221, 'annualised1_percent': 0.065201984408221, 'year1_percent_value': 343.0303184691702, 'price_year3': 1.693, 'year3': 0.8877731836975782, 'year3_percent': -0.1122268163024218, 'annualised3_percent': -0.0389027362226452, 'year3_percent_value': -204.66889339174088, 'price_year5': 1.485, 'year5': 1.012121212121212, 'year5_percent': 0.0121212121212119, 'annualised5_percent': 0.0024125732858155, 'year5_percent_value': 12.692647165186278, 'percent_value': 0.0824084842992059, 'commodity_name': 'L&G Active Sterling Corporate Bond I Acc', 'commodity_type': 'global bonds', 'commodity_sector': nan, 'commodity_id': 'GB00B0CNHD88', 'commodity_ocf': 0.33} \n",
      "****\n",
      "{'': '7', 'commodity': 'MDHAAJ', 'latest_price': '9.916292364230298', 'quantity': '357.47', 'value': '3544.7770314414047', 'price_year1': '9.1859', 'year1': '1.0795123356699177', 'year1_percent': '0.07951233566991767', 'annualised1_percent': '0.07951233566991767', 'year1_percent_value': '281.8535011989833', 'price_year3': '7.4875', 'year3': '1.3243796145883537', 'year3_percent': '0.32437961458835374', 'annualised3_percent': '0.09817317012967175', 'year3_percent_value': '348.00199857944983', 'price_year5': '5.53907', 'year5': '1.790244998570211', 'year5_percent': '0.7902449985702109', 'annualised5_percent': '0.12352436178425386', 'year5_percent_value': '437.8663204762815', 'percent_value': '0.0555250753411195', 'commodity_name': 'HSBC American Index C Acc', 'commodity_type': 'US equity', 'commodity_sector': '', 'commodity_id': 'GB00B80QG615', 'commodity_ocf': '0.06'} \n",
      " {'Unnamed: 0': 7, 'commodity': 'MDHAAJ', 'latest_price': 9.916292364230298, 'quantity': 357.47, 'value': 3544.7770314414047, 'price_year1': 9.1859, 'year1': 1.0795123356699177, 'year1_percent': 0.0795123356699176, 'annualised1_percent': 0.0795123356699176, 'year1_percent_value': 281.8535011989833, 'price_year3': 7.4875, 'year3': 1.3243796145883535, 'year3_percent': 0.3243796145883537, 'annualised3_percent': 0.0981731701296717, 'year3_percent_value': 348.00199857944983, 'price_year5': 5.53907, 'year5': 1.790244998570211, 'year5_percent': 0.7902449985702109, 'annualised5_percent': 0.1235243617842538, 'year5_percent_value': 437.8663204762815, 'percent_value': 0.0555250753411195, 'commodity_name': 'HSBC American Index C Acc', 'commodity_type': 'US equity', 'commodity_sector': nan, 'commodity_id': 'GB00B80QG615', 'commodity_ocf': 0.06} \n",
      "****\n",
      "{'': '8', 'commodity': 'RLAAKA', 'latest_price': '1.06', 'quantity': '1526.5991', 'value': '1618.195046', 'price_year1': '1.08', 'year1': '0.9814814814814815', 'year1_percent': '-0.01851851851851849', 'annualised1_percent': '-0.01851851851851849', 'year1_percent_value': '-29.96657492592588', 'price_year3': '', 'year3': '', 'year3_percent': '', 'annualised3_percent': '', 'year3_percent_value': '', 'price_year5': '', 'year5': '', 'year5_percent': '', 'annualised5_percent': '', 'year5_percent_value': '', 'percent_value': '0.02534726473592633', 'commodity_name': 'Royal London UK Broad Equity Tilt Fund Class Z Accumulation', 'commodity_type': 'UK equity', 'commodity_sector': '', 'commodity_id': 'GB00BPBJRB09', 'commodity_ocf': '0.11'} \n",
      " {'Unnamed: 0': 8, 'commodity': 'RLAAKA', 'latest_price': 1.06, 'quantity': 1526.5991, 'value': 1618.195046, 'price_year1': 1.08, 'year1': 0.9814814814814816, 'year1_percent': -0.0185185185185184, 'annualised1_percent': -0.0185185185185184, 'year1_percent_value': -29.96657492592588, 'price_year3': nan, 'year3': nan, 'year3_percent': nan, 'annualised3_percent': nan, 'year3_percent_value': nan, 'price_year5': nan, 'year5': nan, 'year5_percent': nan, 'annualised5_percent': nan, 'year5_percent_value': nan, 'percent_value': 0.0253472647359263, 'commodity_name': 'Royal London UK Broad Equity Tilt Fund Class Z Accumulation', 'commodity_type': 'UK equity', 'commodity_sector': nan, 'commodity_id': 'GB00BPBJRB09', 'commodity_ocf': 0.11} \n",
      "****\n",
      "{'': '9', 'commodity': 'RLFTT', 'latest_price': '2.1152210685972412', 'quantity': '803.6985', 'value': '1699.9999999999998', 'price_year1': '', 'year1': '', 'year1_percent': '', 'annualised1_percent': '', 'year1_percent_value': '', 'price_year3': '', 'year3': '', 'year3_percent': '', 'annualised3_percent': '', 'year3_percent_value': '', 'price_year5': '', 'year5': '', 'year5_percent': '', 'annualised5_percent': '', 'year5_percent_value': '', 'percent_value': '0.02662865033333859', 'commodity_name': 'Royal London UK Core Equity Tilt Fund Z Accumulation', 'commodity_type': 'UK equity', 'commodity_sector': '', 'commodity_id': 'GB00B523MH29', 'commodity_ocf': '0.15'} \n",
      " {'Unnamed: 0': 9, 'commodity': 'RLFTT', 'latest_price': 2.115221068597241, 'quantity': 803.6985, 'value': 1699.9999999999998, 'price_year1': nan, 'year1': nan, 'year1_percent': nan, 'annualised1_percent': nan, 'year1_percent_value': nan, 'price_year3': nan, 'year3': nan, 'year3_percent': nan, 'annualised3_percent': nan, 'year3_percent_value': nan, 'price_year5': nan, 'year5': nan, 'year5_percent': nan, 'annualised5_percent': nan, 'year5_percent_value': nan, 'percent_value': 0.0266286503333385, 'commodity_name': 'Royal London UK Core Equity Tilt Fund Z Accumulation', 'commodity_type': 'UK equity', 'commodity_sector': nan, 'commodity_id': 'GB00B523MH29', 'commodity_ocf': 0.15} \n",
      "****\n",
      "{'': '11', 'commodity': 'RWAABC', 'latest_price': '0.9727', 'quantity': '982.62', 'value': '955.794474', 'price_year1': '1.0244', 'year1': '0.9495314330339711', 'year1_percent': '-0.05046856696602886', 'annualised1_percent': '-0.05046856696602886', 'year1_percent_value': '-48.23757741682933', 'price_year3': '1.142', 'year3': '0.8517513134851139', 'year3_percent': '-0.1482486865148861', 'annualised3_percent': '-0.05208163513518649', 'year3_percent_value': '-49.77933905909549', 'price_year5': '1.0336', 'year5': '0.9410797213622291', 'year5_percent': '-0.05892027863777094', 'annualised5_percent': '-0.012072025930064179', 'year5_percent_value': '-11.538375673940052', 'percent_value': '0.01497148049334311', 'commodity_name': 'Jupiter Strategic Bond I Acc', 'commodity_type': 'global bonds', 'commodity_sector': '', 'commodity_id': 'GB00B4T6SD53', 'commodity_ocf': '0.73'} \n",
      " {'Unnamed: 0': 11, 'commodity': 'RWAABC', 'latest_price': 0.9727, 'quantity': 982.62, 'value': 955.794474, 'price_year1': 1.0244, 'year1': 0.9495314330339713, 'year1_percent': -0.0504685669660288, 'annualised1_percent': -0.0504685669660288, 'year1_percent_value': -48.23757741682933, 'price_year3': 1.142, 'year3': 0.8517513134851139, 'year3_percent': -0.1482486865148861, 'annualised3_percent': -0.0520816351351864, 'year3_percent_value': -49.77933905909549, 'price_year5': 1.0336, 'year5': 0.9410797213622292, 'year5_percent': -0.0589202786377709, 'annualised5_percent': -0.0120720259300641, 'year5_percent_value': -11.538375673940052, 'percent_value': 0.0149714804933431, 'commodity_name': 'Jupiter Strategic Bond I Acc', 'commodity_type': 'global bonds', 'commodity_sector': nan, 'commodity_id': 'GB00B4T6SD53', 'commodity_ocf': 0.73} \n",
      "****\n",
      "{'': '12', 'commodity': 'SMT', 'latest_price': '7.77', 'quantity': '491.0', 'value': '3815.0699999999997', 'price_year1': '7.134', 'year1': '1.0891505466778804', 'year1_percent': '0.08915054667788036', 'annualised1_percent': '0.08915054667788036', 'year1_percent_value': '340.115576114381', 'price_year3': '12.2192', 'year3': '0.635884509624198', 'year3_percent': '-0.36411549037580204', 'annualised3_percent': '-0.1400772966424415', 'year3_percent_value': '-534.4046921016793', 'price_year5': '4.938', 'year5': '1.5735115431348725', 'year5_percent': '0.5735115431348725', 'annualised5_percent': '0.09489881728316774', 'year5_percent_value': '362.0456308524947', 'percent_value': '0.05975892060424121', 'commodity_name': 'Scottish Mortgage Inv Trust', 'commodity_type': 'global equity', 'commodity_sector': '', 'commodity_id': 'GB00BLDYK618', 'commodity_ocf': '0.34'} \n",
      " {'Unnamed: 0': 12, 'commodity': 'SMT', 'latest_price': 7.77, 'quantity': 491.0, 'value': 3815.07, 'price_year1': 7.134, 'year1': 1.0891505466778804, 'year1_percent': 0.0891505466778803, 'annualised1_percent': 0.0891505466778803, 'year1_percent_value': 340.115576114381, 'price_year3': 12.2192, 'year3': 0.635884509624198, 'year3_percent': -0.364115490375802, 'annualised3_percent': -0.1400772966424415, 'year3_percent_value': -534.4046921016793, 'price_year5': 4.938, 'year5': 1.5735115431348723, 'year5_percent': 0.5735115431348725, 'annualised5_percent': 0.0948988172831677, 'year5_percent_value': 362.0456308524947, 'percent_value': 0.0597589206042412, 'commodity_name': 'Scottish Mortgage Inv Trust', 'commodity_type': 'global equity', 'commodity_sector': nan, 'commodity_id': 'GB00BLDYK618', 'commodity_ocf': 0.34} \n",
      "****\n",
      "{'': '15', 'commodity': 'VVDVWE', 'latest_price': '589.145195', 'quantity': '16.2233', 'value': '9557.879242043498', 'price_year1': '521.255117', 'year1': '1.1302434753844341', 'year1_percent': '0.13024347538443415', 'annualised1_percent': '0.13024347538443415', 'year1_percent_value': '1244.8514097884865', 'price_year3': '444.9075', 'year3': '1.3241970409579518', 'year3_percent': '0.32419704095795177', 'annualised3_percent': '0.0981227045697386', 'year3_percent_value': '937.8449611802712', 'price_year5': '339.446094', 'year5': '1.7356075247694556', 'year5_percent': '0.7356075247694556', 'annualised5_percent': '0.11658118343992552', 'year5_percent_value': '1114.2688732133292', 'percent_value': '0.14971377897920685', 'commodity_name': 'Vanguard FTSE Developed World ex-UK Equity Index Acc GBP', 'commodity_type': 'global equity', 'commodity_sector': '', 'commodity_id': 'GB00B59G4Q73', 'commodity_ocf': '0.14'} \n",
      " {'Unnamed: 0': 15, 'commodity': 'VVDVWE', 'latest_price': 589.145195, 'quantity': 16.2233, 'value': 9557.879242043498, 'price_year1': 521.255117, 'year1': 1.130243475384434, 'year1_percent': 0.1302434753844341, 'annualised1_percent': 0.1302434753844341, 'year1_percent_value': 1244.8514097884863, 'price_year3': 444.9075, 'year3': 1.3241970409579518, 'year3_percent': 0.3241970409579517, 'annualised3_percent': 0.0981227045697386, 'year3_percent_value': 937.8449611802712, 'price_year5': 339.446094, 'year5': 1.7356075247694556, 'year5_percent': 0.7356075247694556, 'annualised5_percent': 0.1165811834399255, 'year5_percent_value': 1114.2688732133292, 'percent_value': 0.1497137789792068, 'commodity_name': 'Vanguard FTSE Developed World ex-UK Equity Index Acc GBP', 'commodity_type': 'global equity', 'commodity_sector': nan, 'commodity_id': 'GB00B59G4Q73', 'commodity_ocf': 0.14} \n",
      "****\n"
     ]
    }
   ],
   "source": [
    "summary_data2 = df_summary.to_dict(\"records\")\n",
    "for s1, s2 in zip(summary_data, summary_data2):\n",
    "    # del s1[' ']\n",
    "    # del s2['Unnamed: 0']\n",
    "    if s1 != s2:\n",
    "        print(s1, \"\\n\", s2, \"\\n****\")"
   ]
  },
  {
   "cell_type": "code",
   "execution_count": 17,
   "metadata": {},
   "outputs": [
    {
     "name": "stdout",
     "output_type": "stream",
     "text": [
      "architecture = ('64bit', 'ELF')\n",
      "collections NOT CALLABLE\n",
      "freedesktop_os_release = {'NAME': 'Ubuntu', 'ID': 'ubuntu', 'PRETTY_NAME': 'Ubuntu 22.04.4 LTS', 'VERSION_ID': '22.04', 'VERSION': '22.04.4 LTS (Jammy Jellyfish)', 'VERSION_CODENAME': 'jammy', 'ID_LIKE': 'debian', 'HOME_URL': 'https://www.ubuntu.com/', 'SUPPORT_URL': 'https://help.ubuntu.com/', 'BUG_REPORT_URL': 'https://bugs.launchpad.net/ubuntu/', 'PRIVACY_POLICY_URL': 'https://www.ubuntu.com/legal/terms-and-policies/privacy-policy', 'UBUNTU_CODENAME': 'jammy'}\n",
      "functools NOT CALLABLE\n",
      "itertools NOT CALLABLE\n",
      "java_ver = ('', '', ('', '', ''), ('', '', ''))\n",
      "libc_ver = ('glibc', '2.35')\n",
      "mac_ver = ('', ('', '', ''), '')\n",
      "machine = x86_64\n",
      "node = nick-W54xEU\n",
      "os NOT CALLABLE\n",
      "platform = Linux-6.5.0-18-generic-x86_64-with-glibc2.35\n",
      "processor = x86_64\n",
      "python_branch = \n",
      "python_build = ('main', 'Dec 10 2023 15:07:36')\n",
      "python_compiler = GCC 11.4.0\n",
      "python_implementation = CPython\n",
      "python_revision = \n",
      "python_version = 3.12.1\n",
      "python_version_tuple = ('3', '12', '1')\n",
      "re NOT CALLABLE\n",
      "release = 6.5.0-18-generic\n",
      "sys NOT CALLABLE\n",
      "system = Linux\n",
      "system_alias NOT CALLABLE\n",
      "uname = uname_result(system='Linux', node='nick-W54xEU', release='6.5.0-18-generic', version='#18~22.04.1-Ubuntu SMP PREEMPT_DYNAMIC Wed Feb  7 11:40:03 UTC 2', machine='x86_64')\n",
      "uname_result NOT CALLABLE\n",
      "version = #18~22.04.1-Ubuntu SMP PREEMPT_DYNAMIC Wed Feb  7 11:40:03 UTC 2\n",
      "win32_edition = None\n",
      "win32_is_iot = False\n",
      "win32_ver = ('', '', '', '')\n"
     ]
    }
   ],
   "source": [
    "import sys\n",
    "import platform\n",
    "\n",
    "for method in dir(platform):\n",
    "    if method[0] == \"_\":\n",
    "        continue\n",
    "    run_str = f\"platform.{method}()\"\n",
    "    try:\n",
    "        print(f\"{method} = {eval(run_str)}\")\n",
    "    except TypeError:\n",
    "        print(f\"{method} NOT CALLABLE\")\n",
    "\n"
   ]
  }
 ],
 "metadata": {
  "kernelspec": {
   "display_name": "venv312",
   "language": "python",
   "name": "python3"
  },
  "language_info": {
   "codemirror_mode": {
    "name": "ipython",
    "version": 3
   },
   "file_extension": ".py",
   "mimetype": "text/x-python",
   "name": "python",
   "nbconvert_exporter": "python",
   "pygments_lexer": "ipython3",
   "version": "3.12.1"
  }
 },
 "nbformat": 4,
 "nbformat_minor": 2
}
